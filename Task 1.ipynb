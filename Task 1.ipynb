{
 "cells": [
  {
   "cell_type": "markdown",
   "id": "dfdd9a4c",
   "metadata": {},
   "source": [
    "# BASIC DATA TYPES IN PYTHON"
   ]
  },
  {
   "cell_type": "markdown",
   "id": "4a3d0f09",
   "metadata": {},
   "source": [
    "1. LIST 2.DICTIONARY  3.SET"
   ]
  },
  {
   "cell_type": "markdown",
   "id": "936a88bc",
   "metadata": {},
   "source": [
    "Python program to create a list, a\n",
    "dictionary, and a set. Perform basic operations\n",
    "like adding, removing, and modifying\n",
    "elements."
   ]
  },
  {
   "cell_type": "code",
   "execution_count": 1,
   "id": "80e62cdb",
   "metadata": {},
   "outputs": [
    {
     "name": "stdout",
     "output_type": "stream",
     "text": [
      "Fruits: ['apple', 'banana', 'cherry']\n",
      "Fruits after adding orange: ['apple', 'banana', 'cherry', 'orange']\n",
      "Fruits after removing cherry: ['apple', 'banana', 'orange']\n",
      "Fruits after modifying apple to mango: ['mango', 'banana', 'orange']\n",
      "\n",
      "Student information: {'name': 'Alice', 'age': 18, 'course': 'Computer Science'}\n",
      "Student information after adding grade: {'name': 'Alice', 'age': 18, 'course': 'Computer Science', 'grade': 'A'}\n",
      "Student information after modifying age: {'name': 'Alice', 'age': 19, 'course': 'Computer Science', 'grade': 'A'}\n",
      "Student information after removing course: {'name': 'Alice', 'age': 19, 'grade': 'A'}\n",
      "\n",
      "Numbers: {1, 2, 3}\n",
      "Numbers after adding 4: {1, 2, 3, 4}\n",
      "Numbers after removing 1: {2, 3, 4}\n"
     ]
    }
   ],
   "source": [
    "# Create a list of fruits\n",
    "fruits = [\"apple\", \"banana\", \"cherry\"]\n",
    "\n",
    "# Print the list\n",
    "print(\"Fruits:\", fruits)\n",
    "\n",
    "# Add an element to the list\n",
    "fruits.append(\"orange\")\n",
    "print(\"Fruits after adding orange:\", fruits)\n",
    "\n",
    "# Remove an element from the list\n",
    "fruits.remove(\"cherry\")\n",
    "print(\"Fruits after removing cherry:\", fruits)\n",
    "\n",
    "# Modify an element in the list\n",
    "fruits[0] = \"mango\"\n",
    "print(\"Fruits after modifying apple to mango:\", fruits)\n",
    "\n",
    "# Create a dictionary of student information\n",
    "student = {\n",
    "    \"name\": \"Alice\",\n",
    "    \"age\": 18,\n",
    "    \"course\": \"Computer Science\"\n",
    "}\n",
    "\n",
    "# Print the dictionary\n",
    "print(\"\\nStudent information:\", student)\n",
    "\n",
    "# Add a new key-value pair to the dictionary\n",
    "student[\"grade\"] = \"A\"\n",
    "print(\"Student information after adding grade:\", student)\n",
    "\n",
    "# Modify the value of an existing key\n",
    "student[\"age\"] = 19\n",
    "print(\"Student information after modifying age:\", student)\n",
    "\n",
    "# Remove a key-value pair from the dictionary\n",
    "del student[\"course\"]\n",
    "print(\"Student information after removing course:\", student)\n",
    "\n",
    "# Create a set of numbers\n",
    "numbers = {1, 2, 3, 3, 2}  # Sets automatically remove duplicates\n",
    "\n",
    "# Print the set (order may differ)\n",
    "print(\"\\nNumbers:\", numbers)\n",
    "\n",
    "# Add an element to the set\n",
    "numbers.add(4)\n",
    "print(\"Numbers after adding 4:\", numbers)\n",
    "\n",
    "# Sets don't allow modification of existing elements, but you can remove and add\n",
    "\n",
    "# Remove an element from the set\n",
    "numbers.remove(1)\n",
    "print(\"Numbers after removing 1:\", numbers)\n"
   ]
  },
  {
   "cell_type": "code",
   "execution_count": null,
   "id": "e9dd2215",
   "metadata": {},
   "outputs": [],
   "source": []
  }
 ],
 "metadata": {
  "kernelspec": {
   "display_name": "Python 3 (ipykernel)",
   "language": "python",
   "name": "python3"
  },
  "language_info": {
   "codemirror_mode": {
    "name": "ipython",
    "version": 3
   },
   "file_extension": ".py",
   "mimetype": "text/x-python",
   "name": "python",
   "nbconvert_exporter": "python",
   "pygments_lexer": "ipython3",
   "version": "3.11.5"
  }
 },
 "nbformat": 4,
 "nbformat_minor": 5
}
